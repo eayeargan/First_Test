{
 "cells": [
  {
   "cell_type": "code",
   "execution_count": 12,
   "metadata": {},
   "outputs": [
    {
     "name": "stdout",
     "output_type": "stream",
     "text": [
      "[['Afterimages', 'Audre Lorde', '1997'], ['The Shadow', 'William Carlos Williams', '1915'], ['Ecstasy', 'Gabriela Mistral', '1925'], ['Georgia Dusk', 'Jean Toomer', '1923'], ['Parting Before Daybreak', 'An Qi', '2014'], ['The Untold Want', 'Walt Whitman', '1871'], [\"Mr. Grumpledump's Song\", 'Shel Silverstein', '2004'], ['Angel Sound Mexico City', 'Carmen Boullosa', '2013'], ['In Love', 'Kamala Suraiyya', '1965'], ['Dream Variations', 'Langston Hughes', '1994'], ['Dreamwood', 'Adrienne Rich', '1987']]\n",
      "The poem ['Afterimages', 'The Shadow', 'Ecstasy', 'Georgia Dusk', 'Parting Before Daybreak', 'The Untold Want', \"Mr. Grumpledump's Song\", 'Angel Sound Mexico City', 'In Love', 'Dream Variations', 'Dreamwood'] was published by ['Audre Lorde', 'William Carlos Williams', 'Gabriela Mistral', 'Jean Toomer', 'An Qi', 'Walt Whitman', 'Shel Silverstein', 'Carmen Boullosa', 'Kamala Suraiyya', 'Langston Hughes', 'Adrienne Rich'] in ['1997', '1915', '1925', '1923', '2014', '1871', '2004', '2013', '1965', '1994', '1987']\n",
      "The poem ['Afterimages', 'The Shadow', 'Ecstasy', 'Georgia Dusk', 'Parting Before Daybreak', 'The Untold Want', \"Mr. Grumpledump's Song\", 'Angel Sound Mexico City', 'In Love', 'Dream Variations', 'Dreamwood'] was published by ['Audre Lorde', 'William Carlos Williams', 'Gabriela Mistral', 'Jean Toomer', 'An Qi', 'Walt Whitman', 'Shel Silverstein', 'Carmen Boullosa', 'Kamala Suraiyya', 'Langston Hughes', 'Adrienne Rich'] in ['1997', '1915', '1925', '1923', '2014', '1871', '2004', '2013', '1965', '1994', '1987']\n",
      "The poem ['Afterimages', 'The Shadow', 'Ecstasy', 'Georgia Dusk', 'Parting Before Daybreak', 'The Untold Want', \"Mr. Grumpledump's Song\", 'Angel Sound Mexico City', 'In Love', 'Dream Variations', 'Dreamwood'] was published by ['Audre Lorde', 'William Carlos Williams', 'Gabriela Mistral', 'Jean Toomer', 'An Qi', 'Walt Whitman', 'Shel Silverstein', 'Carmen Boullosa', 'Kamala Suraiyya', 'Langston Hughes', 'Adrienne Rich'] in ['1997', '1915', '1925', '1923', '2014', '1871', '2004', '2013', '1965', '1994', '1987']\n",
      "The poem ['Afterimages', 'The Shadow', 'Ecstasy', 'Georgia Dusk', 'Parting Before Daybreak', 'The Untold Want', \"Mr. Grumpledump's Song\", 'Angel Sound Mexico City', 'In Love', 'Dream Variations', 'Dreamwood'] was published by ['Audre Lorde', 'William Carlos Williams', 'Gabriela Mistral', 'Jean Toomer', 'An Qi', 'Walt Whitman', 'Shel Silverstein', 'Carmen Boullosa', 'Kamala Suraiyya', 'Langston Hughes', 'Adrienne Rich'] in ['1997', '1915', '1925', '1923', '2014', '1871', '2004', '2013', '1965', '1994', '1987']\n",
      "The poem ['Afterimages', 'The Shadow', 'Ecstasy', 'Georgia Dusk', 'Parting Before Daybreak', 'The Untold Want', \"Mr. Grumpledump's Song\", 'Angel Sound Mexico City', 'In Love', 'Dream Variations', 'Dreamwood'] was published by ['Audre Lorde', 'William Carlos Williams', 'Gabriela Mistral', 'Jean Toomer', 'An Qi', 'Walt Whitman', 'Shel Silverstein', 'Carmen Boullosa', 'Kamala Suraiyya', 'Langston Hughes', 'Adrienne Rich'] in ['1997', '1915', '1925', '1923', '2014', '1871', '2004', '2013', '1965', '1994', '1987']\n",
      "The poem ['Afterimages', 'The Shadow', 'Ecstasy', 'Georgia Dusk', 'Parting Before Daybreak', 'The Untold Want', \"Mr. Grumpledump's Song\", 'Angel Sound Mexico City', 'In Love', 'Dream Variations', 'Dreamwood'] was published by ['Audre Lorde', 'William Carlos Williams', 'Gabriela Mistral', 'Jean Toomer', 'An Qi', 'Walt Whitman', 'Shel Silverstein', 'Carmen Boullosa', 'Kamala Suraiyya', 'Langston Hughes', 'Adrienne Rich'] in ['1997', '1915', '1925', '1923', '2014', '1871', '2004', '2013', '1965', '1994', '1987']\n",
      "The poem ['Afterimages', 'The Shadow', 'Ecstasy', 'Georgia Dusk', 'Parting Before Daybreak', 'The Untold Want', \"Mr. Grumpledump's Song\", 'Angel Sound Mexico City', 'In Love', 'Dream Variations', 'Dreamwood'] was published by ['Audre Lorde', 'William Carlos Williams', 'Gabriela Mistral', 'Jean Toomer', 'An Qi', 'Walt Whitman', 'Shel Silverstein', 'Carmen Boullosa', 'Kamala Suraiyya', 'Langston Hughes', 'Adrienne Rich'] in ['1997', '1915', '1925', '1923', '2014', '1871', '2004', '2013', '1965', '1994', '1987']\n",
      "The poem ['Afterimages', 'The Shadow', 'Ecstasy', 'Georgia Dusk', 'Parting Before Daybreak', 'The Untold Want', \"Mr. Grumpledump's Song\", 'Angel Sound Mexico City', 'In Love', 'Dream Variations', 'Dreamwood'] was published by ['Audre Lorde', 'William Carlos Williams', 'Gabriela Mistral', 'Jean Toomer', 'An Qi', 'Walt Whitman', 'Shel Silverstein', 'Carmen Boullosa', 'Kamala Suraiyya', 'Langston Hughes', 'Adrienne Rich'] in ['1997', '1915', '1925', '1923', '2014', '1871', '2004', '2013', '1965', '1994', '1987']\n",
      "The poem ['Afterimages', 'The Shadow', 'Ecstasy', 'Georgia Dusk', 'Parting Before Daybreak', 'The Untold Want', \"Mr. Grumpledump's Song\", 'Angel Sound Mexico City', 'In Love', 'Dream Variations', 'Dreamwood'] was published by ['Audre Lorde', 'William Carlos Williams', 'Gabriela Mistral', 'Jean Toomer', 'An Qi', 'Walt Whitman', 'Shel Silverstein', 'Carmen Boullosa', 'Kamala Suraiyya', 'Langston Hughes', 'Adrienne Rich'] in ['1997', '1915', '1925', '1923', '2014', '1871', '2004', '2013', '1965', '1994', '1987']\n",
      "The poem ['Afterimages', 'The Shadow', 'Ecstasy', 'Georgia Dusk', 'Parting Before Daybreak', 'The Untold Want', \"Mr. Grumpledump's Song\", 'Angel Sound Mexico City', 'In Love', 'Dream Variations', 'Dreamwood'] was published by ['Audre Lorde', 'William Carlos Williams', 'Gabriela Mistral', 'Jean Toomer', 'An Qi', 'Walt Whitman', 'Shel Silverstein', 'Carmen Boullosa', 'Kamala Suraiyya', 'Langston Hughes', 'Adrienne Rich'] in ['1997', '1915', '1925', '1923', '2014', '1871', '2004', '2013', '1965', '1994', '1987']\n",
      "The poem ['Afterimages', 'The Shadow', 'Ecstasy', 'Georgia Dusk', 'Parting Before Daybreak', 'The Untold Want', \"Mr. Grumpledump's Song\", 'Angel Sound Mexico City', 'In Love', 'Dream Variations', 'Dreamwood'] was published by ['Audre Lorde', 'William Carlos Williams', 'Gabriela Mistral', 'Jean Toomer', 'An Qi', 'Walt Whitman', 'Shel Silverstein', 'Carmen Boullosa', 'Kamala Suraiyya', 'Langston Hughes', 'Adrienne Rich'] in ['1997', '1915', '1925', '1923', '2014', '1871', '2004', '2013', '1965', '1994', '1987']\n"
     ]
    }
   ],
   "source": [
    "highlighted_poems = \"Afterimages:Audre Lorde:1997,  The Shadow:William Carlos Williams:1915, Ecstasy:Gabriela Mistral:1925,   Georgia Dusk:Jean Toomer:1923,   Parting Before Daybreak:An Qi:2014, The Untold Want:Walt Whitman:1871, Mr. Grumpledump's Song:Shel Silverstein:2004, Angel Sound Mexico City:Carmen Boullosa:2013, In Love:Kamala Suraiyya:1965, Dream Variations:Langston Hughes:1994, Dreamwood:Adrienne Rich:1987\"\n",
    "#print(highlighted_poems)\n",
    "highlighted_poems_list = highlighted_poems.split(\",\")\n",
    "#print(highlighted_poems_list)\n",
    "highlighted_poems_stripped = []\n",
    "for group in highlighted_poems_list:\n",
    "  highlighted_poems_stripped.append(group.strip())\n",
    "#print(highlighted_poems_stripped)  \n",
    "highlighted_poems_details = []\n",
    "for poem in highlighted_poems_stripped:\n",
    "  highlighted_poems_details.append(poem.split(\":\"))\n",
    "print(highlighted_poems_details)\n",
    "titles = []\n",
    "poets = []\n",
    "dates = []\n",
    "for item in highlighted_poems_details:\n",
    "  titles.append(item[0])\n",
    "  poets.append(item[1])\n",
    "  dates.append(item[2])\n",
    "for item in highlighted_poems_details:\n",
    "  print(\"The poem {titles} was published by {poets} in {dates}\".format(titles=titles, poets=poets, dates=dates))\n",
    "\n"
   ]
  }
 ],
 "metadata": {
  "kernelspec": {
   "display_name": "Python 3",
   "language": "python",
   "name": "python3"
  },
  "language_info": {
   "codemirror_mode": {
    "name": "ipython",
    "version": 3
   },
   "file_extension": ".py",
   "mimetype": "text/x-python",
   "name": "python",
   "nbconvert_exporter": "python",
   "pygments_lexer": "ipython3",
   "version": "3.8.5"
  }
 },
 "nbformat": 4,
 "nbformat_minor": 4
}
